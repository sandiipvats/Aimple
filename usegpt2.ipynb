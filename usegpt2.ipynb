{
 "cells": [
  {
   "cell_type": "code",
   "execution_count": null,
   "id": "3a88e1ee-1c61-458a-8155-7abe84fa22d3",
   "metadata": {},
   "outputs": [],
   "source": [
    "from transformers import GPT2Tokenizer, GPT2ForQuestionAnswering\n",
    "import torch\n",
    "\n",
    "# Load tokenizer and model from the specified directory\n",
    "model_path = \"E:/aimple/fine_tuned_gpt2_model\"\n",
    "tokenizer = GPT2Tokenizer.from_pretrained(model_path)\n",
    "model = GPT2ForQuestionAnswering.from_pretrained(model_path)\n",
    "\n",
    "# Function to predict the best social media platform\n",
    "def predict_best_platform(product_attributes):\n",
    "    # Convert product attributes into a question format\n",
    "    question = \"What is the best social media platform for product with attributes: \" + str(product_attributes) + \"?\"\n",
    "\n",
    "    # Tokenize the question\n",
    "    inputs = tokenizer(question, return_tensors=\"pt\")\n",
    "\n",
    "    # Use the fine-tuned model to generate the answer\n",
    "    outputs = model(**inputs)\n",
    "\n",
    "    # Decode the generated answer\n",
    "    predicted_platform_id = torch.argmax(outputs.logits[0]).item()\n",
    "    predicted_platform = tokenizer.decode(predicted_platform_id)\n",
    "\n",
    "    return predicted_platform\n",
    "\n",
    "# Example product attributes\n",
    "new_product_attributes = {\n",
    "    'Target_Audience_Men 18-34': 1,\n",
    "    'Campaign_Goal_Brand Awareness': 1,\n",
    "    'Duration_30 Days': 1,\n",
    "    'Location_New Delhi': 1,\n",
    "    'Language_Hindi': 1,\n",
    "    'Customer_Segment_Fitness': 1,\n",
    "    'Social_Media_Facebook': 1,\n",
    "    'Social_Media_Twitter': 1,\n",
    "    'Product_Category_Technology': 1,\n",
    "    'Discount_Available': 0,\n",
    "    'Free_Shipping': 1,\n",
    "    'Limited_Edition': 0,\n",
    "    'Promotion_Code': 0,\n",
    "}\n",
    "\n",
    "# Predict the best social media platform\n",
    "recommended_platform = predict_best_platform(new_product_attributes)\n",
    "print(\"Recommended Platform:\", recommended_platform)\n"
   ]
  }
 ],
 "metadata": {
  "kernelspec": {
   "display_name": "Python 3 (ipykernel)",
   "language": "python",
   "name": "python3"
  },
  "language_info": {
   "codemirror_mode": {
    "name": "ipython",
    "version": 3
   },
   "file_extension": ".py",
   "mimetype": "text/x-python",
   "name": "python",
   "nbconvert_exporter": "python",
   "pygments_lexer": "ipython3",
   "version": "3.12.2"
  }
 },
 "nbformat": 4,
 "nbformat_minor": 5
}
