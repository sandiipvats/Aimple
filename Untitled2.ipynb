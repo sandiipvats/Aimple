{
 "cells": [
  {
   "cell_type": "code",
   "execution_count": 32,
   "id": "a5cff834-37ca-449e-8c23-73d9236fd7ca",
   "metadata": {},
   "outputs": [
    {
     "name": "stdout",
     "output_type": "stream",
     "text": [
      "Missing values:\n",
      " Campaign_ID         0\n",
      "Target_Audience     0\n",
      "Campaign_Goal       0\n",
      "Duration            0\n",
      "Channel_Used        0\n",
      "Conversion_Rate     0\n",
      "Acquisition_Cost    0\n",
      "ROI                 0\n",
      "Location            0\n",
      "Language            0\n",
      "Clicks              0\n",
      "Impressions         0\n",
      "Engagement_Score    0\n",
      "Customer_Segment    0\n",
      "Date                0\n",
      "Company             0\n",
      "dtype: int64\n",
      "Training set shape: (6400, 34) (6400,)\n",
      "Testing set shape: (1600, 34) (1600,)\n"
     ]
    }
   ],
   "source": [
    "import pandas as pd\n",
    "from sklearn.model_selection import train_test_split\n",
    "from sklearn.ensemble import RandomForestClassifier\n",
    "from sklearn.metrics import accuracy_score\n",
    "\n",
    "# Load the dataset\n",
    "data = pd.read_csv('Social_Media_Advertising.csv',nrows=8000)\n",
    "\n",
    "# Handle missing values\n",
    "missing_values = data.isnull().sum()\n",
    "print(\"Missing values:\\n\", missing_values)\n",
    "\n",
    "# Convert 'Acquisition_Cost' column to float\n",
    "data['Acquisition_Cost'] = data['Acquisition_Cost'].replace('[\\\\$,]', '', regex=True).astype(float)\n",
    "\n",
    "# Drop irrelevant columns\n",
    "data.drop(columns=['Date', 'Company'], inplace=True)\n",
    "\n",
    "# Convert categorical variables into numerical format using one-hot encoding\n",
    "data_encoded = pd.get_dummies(data, columns=['Target_Audience', 'Campaign_Goal', 'Duration', 'Location', 'Language', 'Customer_Segment'])\n",
    "\n",
    "# Define features (X) and target variable (y)\n",
    "X = data_encoded.drop(columns=['Channel_Used'])  # Features\n",
    "y = data_encoded['Channel_Used']  # Target variable\n",
    "\n",
    "# Split the dataset into training and testing sets\n",
    "X_train, X_test, y_train, y_test = train_test_split(X, y, test_size=0.2, random_state=42)\n",
    "\n",
    "# Ensure that both datasets have the same columns after preprocessing\n",
    "X_test = X_test[X_train.columns]\n",
    "\n",
    "# Display the shapes of the training and testing sets\n",
    "print(\"Training set shape:\", X_train.shape, y_train.shape)\n",
    "print(\"Testing set shape:\", X_test.shape, y_test.shape)\n"
   ]
  },
  {
   "cell_type": "code",
   "execution_count": 33,
   "id": "b2c905e6-cd48-4b20-b955-de1035406931",
   "metadata": {},
   "outputs": [
    {
     "name": "stdout",
     "output_type": "stream",
     "text": [
      "Model Accuracy: 0.515625\n"
     ]
    }
   ],
   "source": [
    "# Train a Random Forest classifier\n",
    "clf = RandomForestClassifier()\n",
    "clf.fit(X_train, y_train)\n",
    "\n",
    "# Evaluate the classifier\n",
    "y_pred = clf.predict(X_test)\n",
    "accuracy = accuracy_score(y_test, y_pred)\n",
    "print(\"Model Accuracy:\", accuracy)\n"
   ]
  },
  {
   "cell_type": "code",
   "execution_count": 34,
   "id": "f9f69c66-41f4-41a5-ad3b-e82f577f0bbb",
   "metadata": {},
   "outputs": [],
   "source": [
    "\n",
    "# Predict the best platform for a new product\n",
    "def predict_best_platform(product_attributes):\n",
    "    # Preprocess the new product attributes\n",
    "    product_attributes_encoded = pd.get_dummies(pd.DataFrame(product_attributes, index=[0]))\n",
    "    # Get the relevant features used during training\n",
    "    product_attributes_relevant = product_attributes_encoded[X_train.columns]\n",
    "    # Predict the best platform using the trained classifier\n",
    "    predicted_platform = clf.predict(product_attributes_relevant)\n",
    "    return predicted_platform[0]\n"
   ]
  },
  {
   "cell_type": "code",
   "execution_count": 29,
   "id": "d9cc935d-fe4c-469f-94fa-efb2f10c4876",
   "metadata": {},
   "outputs": [],
   "source": [
    "# Example usage:\n",
    "new_product_attributes = {\n",
    "    'Target_Audience_Men 35-44': 1,\n",
    "    'Campaign_Goal_Product Launch': 1,\n",
    "    'Duration_15 Days': 1,\n",
    "    'Location_Las Vegas': 1,\n",
    "    'Language_Spanish': 1,\n",
    "    'Customer_Segment_Health': 1,\n",
    "    # Include only relevant features here\n",
    "}\n"
   ]
  },
  {
   "cell_type": "code",
   "execution_count": 35,
   "id": "1e3c07aa-2fc4-4000-8d88-fc978ca9836d",
   "metadata": {},
   "outputs": [
    {
     "ename": "KeyError",
     "evalue": "\"['Campaign_ID', 'Conversion_Rate', 'Acquisition_Cost', 'ROI', 'Clicks', 'Impressions', 'Engagement_Score', 'Target_Audience_All Ages', 'Target_Audience_Men 18-24', 'Target_Audience_Men 25-34', 'Target_Audience_Men 45-60', 'Target_Audience_Women 18-24', 'Target_Audience_Women 25-34', 'Target_Audience_Women 35-44', 'Target_Audience_Women 45-60', 'Campaign_Goal_Brand Awareness', 'Campaign_Goal_Increase Sales', 'Campaign_Goal_Market Expansion', 'Location_Austin', 'Location_Los Angeles', 'Location_Miami', 'Location_New York', 'Language_English', 'Language_French', 'Customer_Segment_Fashion', 'Customer_Segment_Food', 'Customer_Segment_Home', 'Customer_Segment_Technology'] not in index\"",
     "output_type": "error",
     "traceback": [
      "\u001b[1;31m---------------------------------------------------------------------------\u001b[0m",
      "\u001b[1;31mKeyError\u001b[0m                                  Traceback (most recent call last)",
      "Cell \u001b[1;32mIn[35], line 1\u001b[0m\n\u001b[1;32m----> 1\u001b[0m recommended_platform \u001b[38;5;241m=\u001b[39m \u001b[43mpredict_best_platform\u001b[49m\u001b[43m(\u001b[49m\u001b[43mnew_product_attributes\u001b[49m\u001b[43m)\u001b[49m\n\u001b[0;32m      2\u001b[0m \u001b[38;5;28mprint\u001b[39m(\u001b[38;5;124m\"\u001b[39m\u001b[38;5;124mRecommended Platform:\u001b[39m\u001b[38;5;124m\"\u001b[39m, recommended_platform)\n",
      "Cell \u001b[1;32mIn[34], line 6\u001b[0m, in \u001b[0;36mpredict_best_platform\u001b[1;34m(product_attributes)\u001b[0m\n\u001b[0;32m      4\u001b[0m product_attributes_encoded \u001b[38;5;241m=\u001b[39m pd\u001b[38;5;241m.\u001b[39mget_dummies(pd\u001b[38;5;241m.\u001b[39mDataFrame(product_attributes, index\u001b[38;5;241m=\u001b[39m[\u001b[38;5;241m0\u001b[39m]))\n\u001b[0;32m      5\u001b[0m \u001b[38;5;66;03m# Get the relevant features used during training\u001b[39;00m\n\u001b[1;32m----> 6\u001b[0m product_attributes_relevant \u001b[38;5;241m=\u001b[39m \u001b[43mproduct_attributes_encoded\u001b[49m\u001b[43m[\u001b[49m\u001b[43mX_train\u001b[49m\u001b[38;5;241;43m.\u001b[39;49m\u001b[43mcolumns\u001b[49m\u001b[43m]\u001b[49m\n\u001b[0;32m      7\u001b[0m \u001b[38;5;66;03m# Predict the best platform using the trained classifier\u001b[39;00m\n\u001b[0;32m      8\u001b[0m predicted_platform \u001b[38;5;241m=\u001b[39m clf\u001b[38;5;241m.\u001b[39mpredict(product_attributes_relevant)\n",
      "File \u001b[1;32m~\\AppData\\Local\\Programs\\Python\\Python312\\Lib\\site-packages\\pandas\\core\\frame.py:4096\u001b[0m, in \u001b[0;36mDataFrame.__getitem__\u001b[1;34m(self, key)\u001b[0m\n\u001b[0;32m   4094\u001b[0m     \u001b[38;5;28;01mif\u001b[39;00m is_iterator(key):\n\u001b[0;32m   4095\u001b[0m         key \u001b[38;5;241m=\u001b[39m \u001b[38;5;28mlist\u001b[39m(key)\n\u001b[1;32m-> 4096\u001b[0m     indexer \u001b[38;5;241m=\u001b[39m \u001b[38;5;28;43mself\u001b[39;49m\u001b[38;5;241;43m.\u001b[39;49m\u001b[43mcolumns\u001b[49m\u001b[38;5;241;43m.\u001b[39;49m\u001b[43m_get_indexer_strict\u001b[49m\u001b[43m(\u001b[49m\u001b[43mkey\u001b[49m\u001b[43m,\u001b[49m\u001b[43m \u001b[49m\u001b[38;5;124;43m\"\u001b[39;49m\u001b[38;5;124;43mcolumns\u001b[39;49m\u001b[38;5;124;43m\"\u001b[39;49m\u001b[43m)\u001b[49m[\u001b[38;5;241m1\u001b[39m]\n\u001b[0;32m   4098\u001b[0m \u001b[38;5;66;03m# take() does not accept boolean indexers\u001b[39;00m\n\u001b[0;32m   4099\u001b[0m \u001b[38;5;28;01mif\u001b[39;00m \u001b[38;5;28mgetattr\u001b[39m(indexer, \u001b[38;5;124m\"\u001b[39m\u001b[38;5;124mdtype\u001b[39m\u001b[38;5;124m\"\u001b[39m, \u001b[38;5;28;01mNone\u001b[39;00m) \u001b[38;5;241m==\u001b[39m \u001b[38;5;28mbool\u001b[39m:\n",
      "File \u001b[1;32m~\\AppData\\Local\\Programs\\Python\\Python312\\Lib\\site-packages\\pandas\\core\\indexes\\base.py:6200\u001b[0m, in \u001b[0;36mIndex._get_indexer_strict\u001b[1;34m(self, key, axis_name)\u001b[0m\n\u001b[0;32m   6197\u001b[0m \u001b[38;5;28;01melse\u001b[39;00m:\n\u001b[0;32m   6198\u001b[0m     keyarr, indexer, new_indexer \u001b[38;5;241m=\u001b[39m \u001b[38;5;28mself\u001b[39m\u001b[38;5;241m.\u001b[39m_reindex_non_unique(keyarr)\n\u001b[1;32m-> 6200\u001b[0m \u001b[38;5;28;43mself\u001b[39;49m\u001b[38;5;241;43m.\u001b[39;49m\u001b[43m_raise_if_missing\u001b[49m\u001b[43m(\u001b[49m\u001b[43mkeyarr\u001b[49m\u001b[43m,\u001b[49m\u001b[43m \u001b[49m\u001b[43mindexer\u001b[49m\u001b[43m,\u001b[49m\u001b[43m \u001b[49m\u001b[43maxis_name\u001b[49m\u001b[43m)\u001b[49m\n\u001b[0;32m   6202\u001b[0m keyarr \u001b[38;5;241m=\u001b[39m \u001b[38;5;28mself\u001b[39m\u001b[38;5;241m.\u001b[39mtake(indexer)\n\u001b[0;32m   6203\u001b[0m \u001b[38;5;28;01mif\u001b[39;00m \u001b[38;5;28misinstance\u001b[39m(key, Index):\n\u001b[0;32m   6204\u001b[0m     \u001b[38;5;66;03m# GH 42790 - Preserve name from an Index\u001b[39;00m\n",
      "File \u001b[1;32m~\\AppData\\Local\\Programs\\Python\\Python312\\Lib\\site-packages\\pandas\\core\\indexes\\base.py:6252\u001b[0m, in \u001b[0;36mIndex._raise_if_missing\u001b[1;34m(self, key, indexer, axis_name)\u001b[0m\n\u001b[0;32m   6249\u001b[0m     \u001b[38;5;28;01mraise\u001b[39;00m \u001b[38;5;167;01mKeyError\u001b[39;00m(\u001b[38;5;124mf\u001b[39m\u001b[38;5;124m\"\u001b[39m\u001b[38;5;124mNone of [\u001b[39m\u001b[38;5;132;01m{\u001b[39;00mkey\u001b[38;5;132;01m}\u001b[39;00m\u001b[38;5;124m] are in the [\u001b[39m\u001b[38;5;132;01m{\u001b[39;00maxis_name\u001b[38;5;132;01m}\u001b[39;00m\u001b[38;5;124m]\u001b[39m\u001b[38;5;124m\"\u001b[39m)\n\u001b[0;32m   6251\u001b[0m not_found \u001b[38;5;241m=\u001b[39m \u001b[38;5;28mlist\u001b[39m(ensure_index(key)[missing_mask\u001b[38;5;241m.\u001b[39mnonzero()[\u001b[38;5;241m0\u001b[39m]]\u001b[38;5;241m.\u001b[39munique())\n\u001b[1;32m-> 6252\u001b[0m \u001b[38;5;28;01mraise\u001b[39;00m \u001b[38;5;167;01mKeyError\u001b[39;00m(\u001b[38;5;124mf\u001b[39m\u001b[38;5;124m\"\u001b[39m\u001b[38;5;132;01m{\u001b[39;00mnot_found\u001b[38;5;132;01m}\u001b[39;00m\u001b[38;5;124m not in index\u001b[39m\u001b[38;5;124m\"\u001b[39m)\n",
      "\u001b[1;31mKeyError\u001b[0m: \"['Campaign_ID', 'Conversion_Rate', 'Acquisition_Cost', 'ROI', 'Clicks', 'Impressions', 'Engagement_Score', 'Target_Audience_All Ages', 'Target_Audience_Men 18-24', 'Target_Audience_Men 25-34', 'Target_Audience_Men 45-60', 'Target_Audience_Women 18-24', 'Target_Audience_Women 25-34', 'Target_Audience_Women 35-44', 'Target_Audience_Women 45-60', 'Campaign_Goal_Brand Awareness', 'Campaign_Goal_Increase Sales', 'Campaign_Goal_Market Expansion', 'Location_Austin', 'Location_Los Angeles', 'Location_Miami', 'Location_New York', 'Language_English', 'Language_French', 'Customer_Segment_Fashion', 'Customer_Segment_Food', 'Customer_Segment_Home', 'Customer_Segment_Technology'] not in index\""
     ]
    }
   ],
   "source": [
    "recommended_platform = predict_best_platform(new_product_attributes)\n",
    "print(\"Recommended Platform:\", recommended_platform)"
   ]
  },
  {
   "cell_type": "code",
   "execution_count": null,
   "id": "152a1dbc-9496-4ac4-8824-6587fc92474d",
   "metadata": {},
   "outputs": [],
   "source": []
  }
 ],
 "metadata": {
  "kernelspec": {
   "display_name": "Python 3 (ipykernel)",
   "language": "python",
   "name": "python3"
  },
  "language_info": {
   "codemirror_mode": {
    "name": "ipython",
    "version": 3
   },
   "file_extension": ".py",
   "mimetype": "text/x-python",
   "name": "python",
   "nbconvert_exporter": "python",
   "pygments_lexer": "ipython3",
   "version": "3.12.2"
  }
 },
 "nbformat": 4,
 "nbformat_minor": 5
}
