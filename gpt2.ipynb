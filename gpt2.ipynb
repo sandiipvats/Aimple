{
 "cells": [
  {
   "cell_type": "code",
   "execution_count": null,
   "id": "ab5984f6-ead7-4e6b-af4b-55e1d2f307d4",
   "metadata": {},
   "outputs": [],
   "source": [
    "import pandas as pd\n",
    "print('10')\n",
    "from transformers import GPT2Tokenizer, GPT2ForQuestionAnswering, Trainer, TrainingArguments\n",
    "print('11')\n",
    "import torch\n",
    "print('12')\n",
    "\n",
    "\n",
    "\n",
    "data = pd.read_csv('Social_Media_Advertising.csv', nrows=12000)\n",
    "\n",
    "print(data.head(10))\n",
    "questions = []\n",
    "answers = []\n",
    "\n",
    "for _, row in data.iterrows():\n",
    "    attributes = \", \".join([f\"{key}: {value}\" for key, value in row.items() if key != 'Channel_Used'])\n",
    "    question = f\"What is the best social media platform for product with attributes: {attributes}?\"\n",
    "    questions.append(question)\n",
    "    answers.append(row['Channel_Used'])\n",
    "\n",
    "\n",
    "tokenizer = GPT2Tokenizer.from_pretrained('gpt2')\n",
    "model = GPT2ForQuestionAnswering.from_pretrained('gpt2')\n",
    "\n",
    "inputs = tokenizer(questions, answers, padding=True, truncation=True, return_tensors=\"pt\")\n",
    "\n",
    "\n",
    "training_args = TrainingArguments(\n",
    "    per_device_train_batch_size=8,\n",
    "    num_train_epochs=3,\n",
    "    logging_dir='./logs',\n",
    "    logging_steps=100,\n",
    ")\n",
    "\n",
    "trainer = Trainer(\n",
    "    model=model,\n",
    "    args=training_args,\n",
    "    train_dataset=inputs,\n",
    ")\n",
    "\n",
    "trainer.train()\n",
    "\n",
    "\n",
    "model_path = \"E:/aimple/fine_tuned_gpt2_model\"\n",
    "trainer.save_model(model_path)\n"
   ]
  },
  {
   "cell_type": "code",
   "execution_count": null,
   "id": "f49241b0-fea1-49a4-acc5-685054d35936",
   "metadata": {},
   "outputs": [],
   "source": []
  }
 ],
 "metadata": {
  "kernelspec": {
   "display_name": "Python 3 (ipykernel)",
   "language": "python",
   "name": "python3"
  },
  "language_info": {
   "codemirror_mode": {
    "name": "ipython",
    "version": 3
   },
   "file_extension": ".py",
   "mimetype": "text/x-python",
   "name": "python",
   "nbconvert_exporter": "python",
   "pygments_lexer": "ipython3",
   "version": "3.12.2"
  }
 },
 "nbformat": 4,
 "nbformat_minor": 5
}
