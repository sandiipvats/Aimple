{
 "cells": [
  {
   "cell_type": "code",
   "execution_count": 1,
   "id": "3724dd6f-fffe-4141-b64d-e8688a08b5c9",
   "metadata": {},
   "outputs": [
    {
     "name": "stderr",
     "output_type": "stream",
     "text": [
      "C:\\Users\\dell\\AppData\\Local\\Programs\\Python\\Python312\\Lib\\site-packages\\sklearn\\svm\\_classes.py:31: FutureWarning: The default value of `dual` will change from `True` to `'auto'` in 1.5. Set the value of `dual` explicitly to suppress the warning.\n",
      "  warnings.warn(\n"
     ]
    },
    {
     "name": "stdout",
     "output_type": "stream",
     "text": [
      "Model Accuracy %: 50.541666666666664\n",
      "Recommended Platform: Pinterest\n"
     ]
    },
    {
     "name": "stderr",
     "output_type": "stream",
     "text": [
      "C:\\Users\\dell\\AppData\\Local\\Programs\\Python\\Python312\\Lib\\site-packages\\sklearn\\svm\\_base.py:1237: ConvergenceWarning: Liblinear failed to converge, increase the number of iterations.\n",
      "  warnings.warn(\n"
     ]
    }
   ],
   "source": [
    "import pandas as pd\n",
    "from sklearn.model_selection import train_test_split\n",
    "from sklearn.svm import LinearSVC\n",
    "from sklearn.metrics import accuracy_score\n",
    "from sklearn.preprocessing import StandardScaler\n",
    "from sklearn.pipeline import make_pipeline\n",
    "\n",
    "data = pd.read_csv('Social_Media_Advertising.csv', nrows=12000)\n",
    "\n",
    "missing_values = data.isnull().sum()\n",
    "\n",
    "data['Acquisition_Cost'] = data['Acquisition_Cost'].replace('[\\\\$,]', '', regex=True).astype(float)\n",
    "\n",
    "data.drop(columns=['Date', 'Company'], inplace=True)\n",
    "\n",
    "data_encoded = pd.get_dummies(data, columns=['Target_Audience', 'Campaign_Goal', 'Duration', 'Location', 'Language', 'Customer_Segment'])\n",
    "\n",
    "X = data_encoded.drop(columns=['Channel_Used'])\n",
    "y = data_encoded['Channel_Used']\n",
    "\n",
    "X_train, X_test, y_train, y_test = train_test_split(X, y, test_size=0.2, random_state=42)\n",
    "\n",
    "clf = make_pipeline(StandardScaler(), LinearSVC())\n",
    "\n",
    "clf.fit(X_train, y_train)\n",
    "\n",
    "y_pred = clf.predict(X_test)\n",
    "accuracy = accuracy_score(y_test, y_pred)\n",
    "print(\"Model Accuracy %:\", accuracy * 100)\n",
    "\n",
    "\n",
    "def predict_best_platform(product_attributes):\n",
    "    product_attributes_encoded = pd.DataFrame(product_attributes, index=[0])\n",
    "    product_attributes_encoded = pd.get_dummies(product_attributes_encoded)\n",
    "    product_attributes_encoded = product_attributes_encoded.reindex(columns=X_train.columns, fill_value=0)\n",
    "\n",
    "    predicted_platform = clf.predict(product_attributes_encoded)\n",
    "    return predicted_platform[0]\n",
    "\n",
    "\n",
    "new_product_attributes = {\n",
    "    'Target_Audience_Men 18-34': 1,\n",
    "    'Campaign_Goal_Brand Awareness': 1,\n",
    "    'Duration_30 Days': 1,\n",
    "    'Location_New Delhi': 1,\n",
    "    'Language_Hindi': 1,\n",
    "    'Customer_Segment_Fitness': 1,\n",
    "    'Social_Media_Facebook': 1,\n",
    "    'Social_Media_Twitter': 1,\n",
    "    'Product_Category_Technology': 1,\n",
    "    'Discount_Available': 0,\n",
    "    'Free_Shipping': 1,\n",
    "    'Limited_Edition': 0,\n",
    "    'Promotion_Code': 0,\n",
    "}\n",
    "\n",
    "recommended_platform = predict_best_platform(new_product_attributes)\n",
    "print(\"Recommended Platform:\", recommended_platform)\n"
   ]
  },
  {
   "cell_type": "code",
   "execution_count": null,
   "id": "786c1687-55f3-436c-91ca-7a48a13fbfcf",
   "metadata": {},
   "outputs": [],
   "source": []
  }
 ],
 "metadata": {
  "kernelspec": {
   "display_name": "Python 3 (ipykernel)",
   "language": "python",
   "name": "python3"
  },
  "language_info": {
   "codemirror_mode": {
    "name": "ipython",
    "version": 3
   },
   "file_extension": ".py",
   "mimetype": "text/x-python",
   "name": "python",
   "nbconvert_exporter": "python",
   "pygments_lexer": "ipython3",
   "version": "3.12.2"
  }
 },
 "nbformat": 4,
 "nbformat_minor": 5
}
