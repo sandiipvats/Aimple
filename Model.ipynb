import pandas as pd
from sklearn.model_selection import train_test_split
from sklearn.ensemble import RandomForestClassifier
from sklearn.metrics import accuracy_score

# Load the dataset
data = pd.read_csv('Social_Media_Advertising.csv')  # Replace 'your_dataset.csv' with the path to your dataset

# Calculate weighted score for each campaign
data['Weighted_Score'] = (data['Conversion_Rate'] + data['ROI'] + data['Engagement_Score']) / data['Acquisition_Cost']

# Preprocess the dataset
# Convert categorical variables into numerical format using one-hot encoding
data_encoded = pd.get_dummies(data.drop(columns=['Campaign_ID', 'Date', 'Company']))

# Define features (X) and target variable (y)
X = data_encoded.drop(columns=['Channel_Used'])
y = data['Channel_Used']

# Split the dataset into training and testing sets
X_train, X_test, y_train, y_test = train_test_split(X, y, test_size=0.2, random_state=42)

# Train a Random Forest classifier using weighted scores as additional features
X_train['Weighted_Score'] = data.loc[X_train.index, 'Weighted_Score']
X_test['Weighted_Score'] = data.loc[X_test.index, 'Weighted_Score']
clf = RandomForestClassifier()
clf.fit(X_train, y_train)

# Evaluate the classifier
y_pred = clf.predict(X_test)
accuracy = accuracy_score(y_test, y_pred)
print(f'Model Accuracy: {accuracy}')

# Predict the best platform for a new product
def predict_best_platform(product_attributes):
    # Calculate weighted score for the new product
    weighted_score = (product_attributes['Conversion_Rate'] + product_attributes['ROI'] + product_attributes['Engagement_Score']) / product_attributes['Acquisition_Cost']
    # Add weighted score as an additional feature
    product_attributes_encoded = pd.get_dummies(pd.DataFrame(product_attributes, index=[0]))
    product_attributes_encoded['Weighted_Score'] = weighted_score
    # Predict the best platform using the trained classifier
    predicted_platform = clf.predict(product_attributes_encoded)
    return predicted_platform[0]

# Example usage:
new_product_attributes = {
    'Target_Audience': 'Men 35-44',
    'Campaign_Goal': 'Product Launch',
    'Duration': '15 Days',
    'Conversion_Rate': 0.05,
    'Acquisition_Cost': 500.00,
    'ROI': 5.0,
    'Location': 'Las Vegas',
    'Language': 'Spanish',
    'Clicks': 500,
    'Impressions': 3000,
    'Engagement_Score': 7,
    'Customer_Segment': 'Health'
}

recommended_platform = predict_best_platform(new_product_attributes)
print(f'Recommended Platform: {recommended_platform}')
